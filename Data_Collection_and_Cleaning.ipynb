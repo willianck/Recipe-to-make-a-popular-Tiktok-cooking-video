{
  "nbformat": 4,
  "nbformat_minor": 0,
  "metadata": {
    "colab": {
      "name": "Data Collection and Cleaning.ipynb",
      "provenance": [],
      "authorship_tag": "ABX9TyM0mski5K8lh66IcaiXV2jM",
      "include_colab_link": true
    },
    "kernelspec": {
      "name": "python3",
      "display_name": "Python 3"
    },
    "language_info": {
      "name": "python"
    }
  },
  "cells": [
    {
      "cell_type": "markdown",
      "metadata": {
        "id": "view-in-github",
        "colab_type": "text"
      },
      "source": [
        "<a href=\"https://colab.research.google.com/github/willianck/Recipe-to-make-a-popular-Tiktok-cooking-video/blob/main/Data_Collection_and_Cleaning.ipynb\" target=\"_parent\"><img src=\"https://colab.research.google.com/assets/colab-badge.svg\" alt=\"Open In Colab\"/></a>"
      ]
    },
    {
      "cell_type": "code",
      "execution_count": null,
      "metadata": {
        "id": "FYnh3wfzcn1S"
      },
      "outputs": [],
      "source": [
        ""
      ]
    }
  ]
}